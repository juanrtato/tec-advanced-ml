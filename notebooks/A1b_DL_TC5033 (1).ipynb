{
  "cells": [
    {
      "cell_type": "markdown",
      "metadata": {
        "id": "i5GAOvkm8ATN"
      },
      "source": [
        "# TC 5033\n",
        "## Deep Learning\n",
        "## Fully Connected Deep Neural Networks\n",
        "### Luis Miguel Álvarez Caloca A01732666\n",
        "\n",
        "#### Activity 1b: Implementing a Fully Connected Network for Kaggle ASL Dataset\n",
        "\n",
        "- Objective\n",
        "\n",
        "The aim of this part of the activity is to apply your understanding of Fully Connected Networks by implementing a multilayer network for the [Kaggle ASL (American Sign Language) dataset](https://www.kaggle.com/datasets/grassknoted/asl-alphabet). While you have been provided with a complete solution for a Fully Connected Network using Numpy for the MNIST dataset, you are encouraged to try to come up with the solution.\n",
        "\n",
        "- Instructions\n",
        "\n",
        "    This activity requires submission in teams of 3 or 4 members. Submissions from smaller or larger teams will not be accepted unless prior approval has been granted (only due to exceptional circumstances). While teamwork is encouraged, each member is expected to contribute individually to the assignment. The final submission should feature the best arguments and solutions from each team member. Only one person per team needs to submit the completed work, but it is imperative that the names of all team members are listed in a Markdown cell at the very beginning of the notebook (either the first or second cell). Failure to include all team member names will result in the grade being awarded solely to the individual who submitted the assignment, with zero points given to other team members (no exceptions will be made to this rule).\n",
        "\n",
        "    Load and Preprocess Data: You are provided a starter code to load the data. Be sure to understand the code.\n",
        "\n",
        "    Review MNIST Notebook (Optional): Before diving into this activity, you have the option to revisit the MNIST example to refresh your understanding of how to build a Fully Connected Network using Numpy.\n",
        "\n",
        "    Start Fresh: Although you can refer to the MNIST solution at any point, try to implement the network for the ASL dataset on your own. This will reinforce your learning and understanding of the architecture and mathematics involved.\n",
        "\n",
        "    Implement Forward and Backward Pass: Write the code to perform the forward and backward passes, keeping in mind the specific challenges and characteristics of the ASL dataset.\n",
        "    \n",
        "     Design the Network: Create the architecture of the Fully Connected Network tailored for the ASL dataset. Choose the number of hidden layers, neurons, and hyperparameters judiciously.\n",
        "\n",
        "    Train the Model: Execute the training loop, ensuring to track performance metrics such as loss and accuracy.\n",
        "\n",
        "    Analyze and Document: Use Markdown cells to document in detail the choices you made in terms of architecture and hyperparameters, you may use figures, equations, etc to aid in your explanations. Include any metrics that help justify these choices and discuss the model's performance.  \n",
        "\n",
        "- Evaluation Criteria\n",
        "\n",
        "    - Code Readability and Comments\n",
        "    - Appropriateness of chosen architecture and hyperparameters for the ASL dataset\n",
        "    - Performance of the model on the ASL dataset (at least 70% acc)\n",
        "    - Quality of Markdown documentation\n",
        "\n",
        "- Submission\n",
        "\n",
        "Submit this Jupyter Notebook in canvas with your complete solution, ensuring your code is well-commented and includes Markdown cells that explain your design choices, results, and any challenges you encountered.\n"
      ]
    },
    {
      "cell_type": "code",
      "execution_count": 4,
      "metadata": {
        "colab": {
          "base_uri": "https://localhost:8080/"
        },
        "id": "4fJrLw9D8ATP",
        "outputId": "c57a7204-42c1-4014-acaa-145b9bfafc58"
      },
      "outputs": [],
      "source": [
        "import numpy as np\n",
        "import string\n",
        "import pandas as pd\n",
        "import matplotlib.pyplot as plt\n",
        "import cv2 as cv\n",
        "import os\n",
        "from sklearn.model_selection import train_test_split # Team's choice for data splitting\n",
        "\n",
        "%load_ext autoreload\n",
        "%autoreload 2\n",
        "#################################\n",
        "%matplotlib inline\n"
      ]
    },
    {
      "cell_type": "markdown",
      "metadata": {
        "id": "r11j8X-kxiO1"
      },
      "source": [
        "#### We decided importing train_test_split from Scikit-learn, a widely used library in machine learning.\n",
        "#### This function is reliable, well-tested, and considered a standard for dataset splitting.\n",
        "#### It simplifies the process of creating reproducible and well-balanced splits.\n"
      ]
    },
    {
      "cell_type": "code",
      "execution_count": 37,
      "metadata": {
        "colab": {
          "base_uri": "https://localhost:8080/"
        },
        "id": "YBI-Rrnf8ATQ",
        "outputId": "e8a2afdc-62b8-42dd-b67c-22fc0e463657"
      },
      "outputs": [
        {
          "name": "stdout",
          "output_type": "stream",
          "text": [
            "Drive already mounted at /content/drive; to attempt to forcibly remount, call drive.mount(\"/content/drive\", force_remount=True).\n"
          ]
        }
      ],
      "source": [
        "# to load the data using google colaboratory\n",
        "# DATA_PATH = '/media/pepe/DataUbuntu/Databases/asl_data/'\n",
        "#DATA_PATH = '/home/pepe/Documents/github_repos/datasets/asl_data'\n",
        "from google.colab import drive\n",
        "drive.mount('/content/drive')\n",
        "DATA_PATH = '/content/drive/My Drive/MAESTRÍA/TRIMESTRE 3/DEEP LEARNING/HW1/asl_data'\n",
        "\n",
        "train_df = pd.read_csv(os.path.join(DATA_PATH, 'sign_mnist_train.csv'))\n",
        "valid_df = pd.read_csv(os.path.join(DATA_PATH, 'sign_mnist_valid.csv'))"
      ]
    },
    {
      "cell_type": "code",
      "execution_count": 5,
      "metadata": {},
      "outputs": [],
      "source": [
        "# to load the data in a local environment\n",
        "DATA_PATH = '../data/asl_data'\n",
        "train_df = pd.read_csv(os.path.join(DATA_PATH, 'sign_mnist_train.csv'))\n",
        "valid_df = pd.read_csv(os.path.join(DATA_PATH, 'sign_mnist_valid.csv'))"
      ]
    },
    {
      "cell_type": "code",
      "execution_count": 6,
      "metadata": {
        "colab": {
          "base_uri": "https://localhost:8080/",
          "height": 255
        },
        "id": "IFMpucLj8ATR",
        "outputId": "c1c21e86-2c3d-4f4c-96e6-91ebf3111ae8"
      },
      "outputs": [
        {
          "data": {
            "text/html": [
              "<div>\n",
              "<style scoped>\n",
              "    .dataframe tbody tr th:only-of-type {\n",
              "        vertical-align: middle;\n",
              "    }\n",
              "\n",
              "    .dataframe tbody tr th {\n",
              "        vertical-align: top;\n",
              "    }\n",
              "\n",
              "    .dataframe thead th {\n",
              "        text-align: right;\n",
              "    }\n",
              "</style>\n",
              "<table border=\"1\" class=\"dataframe\">\n",
              "  <thead>\n",
              "    <tr style=\"text-align: right;\">\n",
              "      <th></th>\n",
              "      <th>label</th>\n",
              "      <th>pixel1</th>\n",
              "      <th>pixel2</th>\n",
              "      <th>pixel3</th>\n",
              "      <th>pixel4</th>\n",
              "      <th>pixel5</th>\n",
              "      <th>pixel6</th>\n",
              "      <th>pixel7</th>\n",
              "      <th>pixel8</th>\n",
              "      <th>pixel9</th>\n",
              "      <th>...</th>\n",
              "      <th>pixel775</th>\n",
              "      <th>pixel776</th>\n",
              "      <th>pixel777</th>\n",
              "      <th>pixel778</th>\n",
              "      <th>pixel779</th>\n",
              "      <th>pixel780</th>\n",
              "      <th>pixel781</th>\n",
              "      <th>pixel782</th>\n",
              "      <th>pixel783</th>\n",
              "      <th>pixel784</th>\n",
              "    </tr>\n",
              "  </thead>\n",
              "  <tbody>\n",
              "    <tr>\n",
              "      <th>0</th>\n",
              "      <td>3</td>\n",
              "      <td>107</td>\n",
              "      <td>118</td>\n",
              "      <td>127</td>\n",
              "      <td>134</td>\n",
              "      <td>139</td>\n",
              "      <td>143</td>\n",
              "      <td>146</td>\n",
              "      <td>150</td>\n",
              "      <td>153</td>\n",
              "      <td>...</td>\n",
              "      <td>207</td>\n",
              "      <td>207</td>\n",
              "      <td>207</td>\n",
              "      <td>207</td>\n",
              "      <td>206</td>\n",
              "      <td>206</td>\n",
              "      <td>206</td>\n",
              "      <td>204</td>\n",
              "      <td>203</td>\n",
              "      <td>202</td>\n",
              "    </tr>\n",
              "    <tr>\n",
              "      <th>1</th>\n",
              "      <td>6</td>\n",
              "      <td>155</td>\n",
              "      <td>157</td>\n",
              "      <td>156</td>\n",
              "      <td>156</td>\n",
              "      <td>156</td>\n",
              "      <td>157</td>\n",
              "      <td>156</td>\n",
              "      <td>158</td>\n",
              "      <td>158</td>\n",
              "      <td>...</td>\n",
              "      <td>69</td>\n",
              "      <td>149</td>\n",
              "      <td>128</td>\n",
              "      <td>87</td>\n",
              "      <td>94</td>\n",
              "      <td>163</td>\n",
              "      <td>175</td>\n",
              "      <td>103</td>\n",
              "      <td>135</td>\n",
              "      <td>149</td>\n",
              "    </tr>\n",
              "    <tr>\n",
              "      <th>2</th>\n",
              "      <td>2</td>\n",
              "      <td>187</td>\n",
              "      <td>188</td>\n",
              "      <td>188</td>\n",
              "      <td>187</td>\n",
              "      <td>187</td>\n",
              "      <td>186</td>\n",
              "      <td>187</td>\n",
              "      <td>188</td>\n",
              "      <td>187</td>\n",
              "      <td>...</td>\n",
              "      <td>202</td>\n",
              "      <td>201</td>\n",
              "      <td>200</td>\n",
              "      <td>199</td>\n",
              "      <td>198</td>\n",
              "      <td>199</td>\n",
              "      <td>198</td>\n",
              "      <td>195</td>\n",
              "      <td>194</td>\n",
              "      <td>195</td>\n",
              "    </tr>\n",
              "    <tr>\n",
              "      <th>3</th>\n",
              "      <td>2</td>\n",
              "      <td>211</td>\n",
              "      <td>211</td>\n",
              "      <td>212</td>\n",
              "      <td>212</td>\n",
              "      <td>211</td>\n",
              "      <td>210</td>\n",
              "      <td>211</td>\n",
              "      <td>210</td>\n",
              "      <td>210</td>\n",
              "      <td>...</td>\n",
              "      <td>235</td>\n",
              "      <td>234</td>\n",
              "      <td>233</td>\n",
              "      <td>231</td>\n",
              "      <td>230</td>\n",
              "      <td>226</td>\n",
              "      <td>225</td>\n",
              "      <td>222</td>\n",
              "      <td>229</td>\n",
              "      <td>163</td>\n",
              "    </tr>\n",
              "    <tr>\n",
              "      <th>4</th>\n",
              "      <td>12</td>\n",
              "      <td>164</td>\n",
              "      <td>167</td>\n",
              "      <td>170</td>\n",
              "      <td>172</td>\n",
              "      <td>176</td>\n",
              "      <td>179</td>\n",
              "      <td>180</td>\n",
              "      <td>184</td>\n",
              "      <td>185</td>\n",
              "      <td>...</td>\n",
              "      <td>92</td>\n",
              "      <td>105</td>\n",
              "      <td>105</td>\n",
              "      <td>108</td>\n",
              "      <td>133</td>\n",
              "      <td>163</td>\n",
              "      <td>157</td>\n",
              "      <td>163</td>\n",
              "      <td>164</td>\n",
              "      <td>179</td>\n",
              "    </tr>\n",
              "  </tbody>\n",
              "</table>\n",
              "<p>5 rows × 785 columns</p>\n",
              "</div>"
            ],
            "text/plain": [
              "   label  pixel1  pixel2  pixel3  pixel4  pixel5  pixel6  pixel7  pixel8  \\\n",
              "0      3     107     118     127     134     139     143     146     150   \n",
              "1      6     155     157     156     156     156     157     156     158   \n",
              "2      2     187     188     188     187     187     186     187     188   \n",
              "3      2     211     211     212     212     211     210     211     210   \n",
              "4     12     164     167     170     172     176     179     180     184   \n",
              "\n",
              "   pixel9  ...  pixel775  pixel776  pixel777  pixel778  pixel779  pixel780  \\\n",
              "0     153  ...       207       207       207       207       206       206   \n",
              "1     158  ...        69       149       128        87        94       163   \n",
              "2     187  ...       202       201       200       199       198       199   \n",
              "3     210  ...       235       234       233       231       230       226   \n",
              "4     185  ...        92       105       105       108       133       163   \n",
              "\n",
              "   pixel781  pixel782  pixel783  pixel784  \n",
              "0       206       204       203       202  \n",
              "1       175       103       135       149  \n",
              "2       198       195       194       195  \n",
              "3       225       222       229       163  \n",
              "4       157       163       164       179  \n",
              "\n",
              "[5 rows x 785 columns]"
            ]
          },
          "execution_count": 6,
          "metadata": {},
          "output_type": "execute_result"
        }
      ],
      "source": [
        "train_df.head()"
      ]
    },
    {
      "cell_type": "markdown",
      "metadata": {
        "id": "hFY-UwPt8ATR"
      },
      "source": [
        "### Importar Images"
      ]
    },
    {
      "cell_type": "code",
      "execution_count": 7,
      "metadata": {
        "id": "y3CU5zjh8ATR"
      },
      "outputs": [],
      "source": [
        "y_train = np.array(train_df['label'])\n",
        "y_val = np.array(valid_df['label'])\n",
        "del train_df['label']\n",
        "del valid_df['label']\n",
        "x_train = train_df.values.astype(np.float32)\n",
        "x_val = valid_df.values.astype(np.float32)"
      ]
    },
    {
      "cell_type": "code",
      "execution_count": 8,
      "metadata": {
        "code_folding": [],
        "id": "D2-As2158ATS"
      },
      "outputs": [],
      "source": [
        "def split_val_test(x: np.ndarray, y: np.ndarray, pct: float = 0.5, shuffle: bool = True) -> tuple:\n",
        "    '''\n",
        "    Split the previously loaded validation set into valition and test.\n",
        "\n",
        "    Args:\n",
        "      x (np.ndarray): The features of the dataset (input data, images or tabular data).\n",
        "      y (np.ndarray): The labels corresponding to the features (target values).\n",
        "      pct (float): The proportion of the dataset to allocate to the test set (default is 0.5 or 50%).\n",
        "      shuffle (bool): Whether to shuffle the dataset before splitting (default is True).\n",
        "        Setting shuffle = True ensures that the data is randomly mixed before splitting.\n",
        "        This prevents potential biases caused by ordered datasets (e.g., samples grouped by class).\n",
        "        It helps create representative validation and test sets, improving model evaluation and generalization.\n",
        "        Shuffle is a standard practice in most machine learning workflows unless the data is sequential (e.g., time series).\n",
        "    \n",
        "    Returns:\n",
        "      tuple: The split datasets in the following order: x_val, y_val, x_test, y_test\n",
        "    '''\n",
        "    x_val, x_test, y_val, y_test = train_test_split(\n",
        "        x, y, test_size=pct, shuffle=shuffle, random_state=42 # random_state=42 Ensures reproducibility by setting a fixed random seed for shuffling.\n",
        "    )\n",
        "    return x_val, y_val, x_test, y_test\n"
      ]
    },
    {
      "cell_type": "code",
      "execution_count": null,
      "metadata": {},
      "outputs": [],
      "source": [
        "#NOTE: version proposed by juan (more manual)\n",
        "def split_val_test(x, y, pct=0.5, shuffle=True):\n",
        "    '''\n",
        "    Split the previously loaded validation set into valition and test.\n",
        "\n",
        "    Args:\n",
        "      x (np.ndarray): The features of the dataset (input data, images or tabular data).\n",
        "      y (np.ndarray): The labels corresponding to the features (target values).\n",
        "      pct (float): The proportion of the dataset to allocate to the test set (default is 0.5 or 50%).\n",
        "      shuffle (bool): Whether to shuffle the dataset before splitting (default is True).\n",
        "        Setting shuffle = True ensures that the data is randomly mixed before splitting.\n",
        "        This prevents potential biases caused by ordered datasets (e.g., samples grouped by class).\n",
        "        It helps create representative validation and test sets, improving model evaluation and generalization.\n",
        "        Shuffle is a standard practice in most machine learning workflows unless the data is sequential (e.g., time series).\n",
        "    \n",
        "    Returns:\n",
        "      tuple: The split datasets in the following order: x_val, y_val, x_test, y_test\n",
        "    '''\n",
        "    if shuffle:\n",
        "        idx = np.random.permutation(len(y))\n",
        "        x = x[idx]\n",
        "        y = y[idx]\n",
        "    split = int(len(y) * pct)\n",
        "    return x[:split], y[:split], x[split:], y[split:]"
      ]
    },
    {
      "cell_type": "code",
      "execution_count": 9,
      "metadata": {
        "id": "3FlqP8vC8ATS"
      },
      "outputs": [],
      "source": [
        "x_val, y_val, x_test, y_test = split_val_test(x_val, y_val)"
      ]
    },
    {
      "cell_type": "code",
      "execution_count": null,
      "metadata": {
        "colab": {
          "base_uri": "https://localhost:8080/"
        },
        "id": "AzQX9lIn8ATS",
        "outputId": "4a346406-0832-4452-cb35-7c753f74b1bb"
      },
      "outputs": [
        {
          "name": "stdout",
          "output_type": "stream",
          "text": [
            "24\n"
          ]
        }
      ],
      "source": [
        "### The following\n",
        "alphabet=list(string.ascii_lowercase)\n",
        "alphabet.remove('j')\n",
        "alphabet.remove('z')\n",
        "print(len(alphabet))"
      ]
    },
    {
      "cell_type": "markdown",
      "metadata": {
        "id": "2dzLd86V8ATS"
      },
      "source": [
        "### Normalise"
      ]
    },
    {
      "cell_type": "code",
      "execution_count": null,
      "metadata": {
        "colab": {
          "base_uri": "https://localhost:8080/"
        },
        "id": "qBTBaFAH5Ufi",
        "outputId": "4b316468-8996-4e39-df43-5cd82b70ea02"
      },
      "outputs": [
        {
          "data": {
            "text/plain": [
              "(3.6268384e-06, 0.99999946)"
            ]
          },
          "execution_count": 11,
          "metadata": {},
          "output_type": "execute_result"
        }
      ],
      "source": [
        "def normalise(x_mean: float, x_std: float, x_data: np.ndarray) -> np.ndarray:\n",
        "    '''\n",
        "    Normalise the input data based on the mean and standard deviation.\n",
        "\n",
        "    Args:\n",
        "        x_mean (float): Mean of the input data.\n",
        "        x_std (float): Standard deviation of the input data.\n",
        "        x_data (np.ndarray): Input data.\n",
        "\n",
        "    Returns:\n",
        "        np.ndarray: Normalised input data.\n",
        "    '''\n",
        "    return (x_data - x_mean) / x_std\n",
        "\n",
        "x_mean = x_train.mean() # We calculate the mean of the training set\n",
        "x_std = x_train.std() # We calculate the standard deviation of the training set\n",
        "\n",
        "   # - We only use the training set to compute these statistics to avoid data leakage.\n",
        "   # - The validation and test sets must not influence the model during training.\n",
        "\n",
        "\n",
        "x_train = normalise(x_mean, x_std, x_train) # Normalizing the training set\n",
        "x_val = normalise(x_mean, x_std, x_val) # Normalizing the validation set using training stats\n",
        "x_test = normalise(x_mean, x_std, x_test) # Normalise the test set using training stats\n",
        "\n",
        "x_train.mean(), x_train.std()"
      ]
    },
    {
      "cell_type": "markdown",
      "metadata": {
        "id": "3SEAB2GREqH_"
      },
      "source": [
        "#### Mean expected value of ~0 and standard deviation of ~1\n",
        "#### Which in this case is correct, normalization was applied correctly."
      ]
    },
    {
      "cell_type": "markdown",
      "metadata": {
        "id": "WZhrl0RA8ATT"
      },
      "source": [
        "### Graficar muestras"
      ]
    },
    {
      "cell_type": "code",
      "execution_count": null,
      "metadata": {},
      "outputs": [
        {
          "data": {
            "image/png": "[encoded data removed]",
            "text/plain": [
              "<Figure size 1500x500 with 5 Axes>"
            ]
          },
          "metadata": {},
          "output_type": "display_data"
        }
      ],
      "source": [
        "def plot_samples(x_data: np.array, y_data: np.array, num_samples: int = 5):\n",
        "    \"\"\"\n",
        "    Plot a random sample of images from the dataset.\n",
        "\n",
        "    Args:\n",
        "        x_data (numpy.ndarray): Images set to plot.\n",
        "        y_data (numpy.ndarray): Labels of the images.\n",
        "        num_samples (int): Number of samples to plot.\n",
        "\n",
        "    Returns:\n",
        "        None\n",
        "    \"\"\"\n",
        "    # Select random indices to plot\n",
        "    indices = np.random.choice(range(len(x_data)), num_samples, replace=False)\n",
        "    selected_images = x_data[indices]\n",
        "    selected_labels = y_data[indices]\n",
        "\n",
        "    # Create the figure using matplotlib\n",
        "    fig, axes = plt.subplots(1, num_samples, figsize=(15, 5))\n",
        "    for i, ax in enumerate(axes):\n",
        "        # Reshape the image to 28x28\n",
        "        image = selected_images[i].reshape(28, 28)\n",
        "        label = selected_labels[i]\n",
        "\n",
        "        # Show the image and set the title\n",
        "        ax.imshow(image, cmap='gray')\n",
        "        ax.set_title(f\"Label: {alphabet[label]}\")\n",
        "        ax.axis('off')  # Hide axes\n",
        "\n",
        "    plt.tight_layout()\n",
        "    plt.show()\n",
        "\n",
        "plot_samples(x_train, y_train, num_samples=5)"
      ]
    },
    {
      "cell_type": "markdown",
      "metadata": {
        "id": "ynoxc2Zq8ATT"
      },
      "source": [
        "### Ecuaciones para nuestro modelo\n",
        "\n",
        "\n",
        "$$z^1 = W^1 X + b^1$$\n",
        "\n",
        "$$a^1 = ReLU(z^1) $$\n",
        "\n",
        "$$z^2 = W^2 a^1 + b^2$$\n",
        "\n",
        "$$\\hat{y} = \\frac{e^{z^{2_k}}}{\\sum_j{e^{z_j}}}$$\n",
        "\n",
        "\n",
        "$$ \\mathcal{L}(\\hat{y}^{i}, y^{i}) =  - y^{i}  \\ln(\\hat{y}^{i}) = -\\ln(\\hat{y}^i)$$\n",
        "\n",
        "\n",
        "$$ \\mathcal{J}(w, b) =  \\frac{1}{num\\_samples} \\sum_{i=1}^{num\\_samples}-\\ln(\\hat{y}^{i})$$"
      ]
    },
    {
      "cell_type": "markdown",
      "metadata": {
        "id": "O6ANpmEL8ATT"
      },
      "source": [
        "### Funciones adicionales"
      ]
    },
    {
      "cell_type": "markdown",
      "metadata": {
        "id": "WoBZ8o-e8ATT"
      },
      "source": [
        "#### Mini batches"
      ]
    },
    {
      "cell_type": "code",
      "execution_count": 24,
      "metadata": {
        "id": "2wmHrxRl8ATT"
      },
      "outputs": [],
      "source": [
        "def create_minibatches(mb_size: int, x: np.ndarray, y: np.ndarray, shuffle: bool = True):\n",
        "    '''\n",
        "    Function to create minibatches of the data for more efficient training.\n",
        "    This function is used to create subsets of the data to be used during training.\n",
        "    Args:\n",
        "        mb_size (int): Size of the minibatches.\n",
        "        x (np.ndarray): Input data.\n",
        "        y (np.ndarray): Labels.\n",
        "        shuffle (bool): Whether to shuffle the data before creating minibatches.\n",
        "    Returns:\n",
        "        generator: A generator that yields minibatches of the data.\n",
        "    '''\n",
        "    # Ensure the number of samples in x and y are the same\n",
        "    assert x.shape[0] == y.shape[0], 'Error en cantidad de muestras'\n",
        "    total_data = x.shape[0] # Get the total number of data samples\n",
        "    if shuffle: # Shuffle the data if shuffle is True\n",
        "        idxs = np.arange(total_data) # Create an array of indices and shuffle them\n",
        "        np.random.shuffle(idxs)\n",
        "        # Reorder x and y according to the shuffled indices\n",
        "        x = x[idxs]\n",
        "        y = y[idxs]  \n",
        "    # Generate minibatches\n",
        "    return ((x[i:i+mb_size], y[i:i+mb_size]) for i in range(0, total_data, mb_size))"
      ]
    },
    {
      "cell_type": "markdown",
      "metadata": {
        "id": "iVH6Bta18ATU"
      },
      "source": [
        "## Nuestra clase Linear, ReLU y Sequential"
      ]
    },
    {
      "cell_type": "markdown",
      "metadata": {
        "id": "X6XuMGLB8ATU"
      },
      "source": [
        "###  Clase Linear"
      ]
    },
    {
      "cell_type": "markdown",
      "metadata": {
        "id": "9brqz1T98ATU"
      },
      "source": [
        "### Clase ReLU"
      ]
    },
    {
      "cell_type": "markdown",
      "metadata": {
        "id": "divDUUj68ATU"
      },
      "source": [
        "### Clase Sequential"
      ]
    },
    {
      "cell_type": "markdown",
      "metadata": {
        "id": "lcESjYu78ATU"
      },
      "source": [
        "### Cost Function"
      ]
    },
    {
      "cell_type": "markdown",
      "metadata": {
        "id": "9l-Sc6Ts8ATV"
      },
      "source": [
        "### Loop de entrenamiento"
      ]
    },
    {
      "cell_type": "markdown",
      "metadata": {
        "id": "Wuc2YVPI8ATV"
      },
      "source": [
        "### Create your model and train it"
      ]
    },
    {
      "cell_type": "code",
      "execution_count": null,
      "metadata": {
        "id": "ROW6UrB68ATV"
      },
      "outputs": [],
      "source": [
        "\n"
      ]
    },
    {
      "cell_type": "markdown",
      "metadata": {
        "id": "8HcdDfYC8ATV"
      },
      "source": [
        "### Test your model on Random data from your test set"
      ]
    },
    {
      "cell_type": "code",
      "execution_count": null,
      "metadata": {
        "id": "_DzsOVQU8ATV"
      },
      "outputs": [],
      "source": [
        "idx = np.random.randint(len(y_test))\n",
        "plot_number(x_test[idx].reshape(28,28))\n",
        "pred = model.predict(x_test[idx].reshape(-1, 1))\n",
        "print(f'el valor predicho es: {alphabet[pred]} el valor real es:{alphabet[y_test[idx]]}')"
      ]
    },
    {
      "cell_type": "code",
      "execution_count": null,
      "metadata": {
        "id": "_OgXF3Vp8ATW"
      },
      "outputs": [],
      "source": []
    }
  ],
  "metadata": {
    "colab": {
      "provenance": []
    },
    "kernelspec": {
      "display_name": "Python 3",
      "language": "python",
      "name": "python3"
    },
    "language_info": {
      "codemirror_mode": {
        "name": "ipython",
        "version": 3
      },
      "file_extension": ".py",
      "mimetype": "text/x-python",
      "name": "python",
      "nbconvert_exporter": "python",
      "pygments_lexer": "ipython3",
      "version": "3.10.12"
    },
    "toc": {
      "base_numbering": 1,
      "nav_menu": {},
      "number_sections": true,
      "sideBar": true,
      "skip_h1_title": false,
      "title_cell": "Table of Contents",
      "title_sidebar": "Contents",
      "toc_cell": false,
      "toc_position": {},
      "toc_section_display": true,
      "toc_window_display": false
    },
    "varInspector": {
      "cols": {
        "lenName": 16,
        "lenType": 16,
        "lenVar": 40
      },
      "kernels_config": {
        "python": {
          "delete_cmd_postfix": "",
          "delete_cmd_prefix": "del ",
          "library": "var_list.py",
          "varRefreshCmd": "print(var_dic_list())"
        },
        "r": {
          "delete_cmd_postfix": ") ",
          "delete_cmd_prefix": "rm(",
          "library": "var_list.r",
          "varRefreshCmd": "cat(var_dic_list()) "
        }
      },
      "types_to_exclude": [
        "module",
        "function",
        "builtin_function_or_method",
        "instance",
        "_Feature"
      ],
      "window_display": false
    }
  },
  "nbformat": 4,
  "nbformat_minor": 0
}
